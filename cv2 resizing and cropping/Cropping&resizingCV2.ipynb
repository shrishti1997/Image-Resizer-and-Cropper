{
 "cells": [
  {
   "cell_type": "code",
   "execution_count": 1,
   "metadata": {},
   "outputs": [],
   "source": [
    "import cv2"
   ]
  },
  {
   "cell_type": "code",
   "execution_count": 2,
   "metadata": {},
   "outputs": [],
   "source": [
    "#positive x axis is width of the image\n",
    "#negative y axis is height of the image\n",
    "#an image is 640x480 \n",
    "#640 = maximum positive x coordinate\n",
    "#480 = maximum negative y coordinate\n",
    "#starting of image is at(0,0) always"
   ]
  },
  {
   "cell_type": "code",
   "execution_count": 3,
   "metadata": {},
   "outputs": [
    {
     "name": "stdout",
     "output_type": "stream",
     "text": [
      "[[[ 19  23  28]\n",
      "  [ 22  26  31]\n",
      "  [ 24  28  33]\n",
      "  ...\n",
      "  [  8   6   5]\n",
      "  [  7   5   4]\n",
      "  [  6   4   3]]\n",
      "\n",
      " [[ 19  23  28]\n",
      "  [ 19  23  28]\n",
      "  [ 18  22  27]\n",
      "  ...\n",
      "  [  8   6   5]\n",
      "  [  7   5   4]\n",
      "  [  5   3   2]]\n",
      "\n",
      " [[ 19  23  28]\n",
      "  [ 20  24  29]\n",
      "  [ 19  23  28]\n",
      "  ...\n",
      "  [  7   5   4]\n",
      "  [  6   4   3]\n",
      "  [  4   2   1]]\n",
      "\n",
      " ...\n",
      "\n",
      " [[  2   2   2]\n",
      "  [  2   2   2]\n",
      "  [  2   2   2]\n",
      "  ...\n",
      "  [139 140 138]\n",
      "  [139 140 138]\n",
      "  [138 139 137]]\n",
      "\n",
      " [[  2   2   2]\n",
      "  [  2   2   2]\n",
      "  [  2   2   2]\n",
      "  ...\n",
      "  [139 140 138]\n",
      "  [139 140 138]\n",
      "  [139 140 138]]\n",
      "\n",
      " [[  1   1   1]\n",
      "  [  2   2   2]\n",
      "  [  3   3   3]\n",
      "  ...\n",
      "  [139 140 138]\n",
      "  [139 140 138]\n",
      "  [139 140 138]]]\n"
     ]
    }
   ],
   "source": [
    "#import image from file\n",
    "img = cv2.imread(\"IMG.jpg\")\n",
    "#if print(img) output is None, img is not imported\n",
    "print(img)\n",
    "#if it outputs a mertix it is imported successfully"
   ]
  },
  {
   "cell_type": "code",
   "execution_count": null,
   "metadata": {},
   "outputs": [],
   "source": [
    "#displaying photo\n",
    "cv2.imshow(\"Image\", img)\n",
    "#adding waitKey is important as it holds the screen\n",
    "#it takes miliseconds as arguments\n",
    "#1000ms = 1s, 0 means infinite time\n",
    "cv2.waitKey()"
   ]
  },
  {
   "cell_type": "code",
   "execution_count": null,
   "metadata": {},
   "outputs": [],
   "source": [
    "cv2.destroyAllWindows()"
   ]
  },
  {
   "cell_type": "code",
   "execution_count": 4,
   "metadata": {},
   "outputs": [
    {
     "name": "stdout",
     "output_type": "stream",
     "text": [
      "(1440, 2560, 3)\n"
     ]
    }
   ],
   "source": [
    "#find size of image\n",
    "print(img.shape)"
   ]
  },
  {
   "cell_type": "code",
   "execution_count": null,
   "metadata": {},
   "outputs": [],
   "source": [
    "#4000 = height, 3000 = width, channels(vgr)=3\n",
    "#image is pretty big\n",
    "#let us resize"
   ]
  },
  {
   "cell_type": "code",
   "execution_count": 6,
   "metadata": {},
   "outputs": [
    {
     "data": {
      "text/plain": [
       "True"
      ]
     },
     "execution_count": 6,
     "metadata": {},
     "output_type": "execute_result"
    }
   ],
   "source": [
    "imgResize = cv2.resize(img,(400,300))#(width, height)\n",
    "cv2.imwrite(\"resizeimg.jpg\",imgResize)"
   ]
  },
  {
   "cell_type": "code",
   "execution_count": null,
   "metadata": {},
   "outputs": [],
   "source": [
    "cv2.imshow(\"Resized\", imgResize)\n",
    "#cv2.imwrite(\"resizeimg.jpg\",imgResize)"
   ]
  },
  {
   "cell_type": "code",
   "execution_count": 7,
   "metadata": {},
   "outputs": [
    {
     "name": "stdout",
     "output_type": "stream",
     "text": [
      "(300, 400, 3)\n"
     ]
    }
   ],
   "source": [
    "print(imgResize.shape)"
   ]
  },
  {
   "cell_type": "code",
   "execution_count": 11,
   "metadata": {},
   "outputs": [],
   "source": [
    "#let's crop this image\n",
    "#can be done by matrix\n",
    "imgCrop = img[0:200, 200:400]#height,widhth\n",
    "#starting_point:end_point"
   ]
  },
  {
   "cell_type": "code",
   "execution_count": 12,
   "metadata": {},
   "outputs": [
    {
     "data": {
      "text/plain": [
       "True"
      ]
     },
     "execution_count": 12,
     "metadata": {},
     "output_type": "execute_result"
    }
   ],
   "source": [
    "\n",
    "cv2.imwrite(\"resizeimg.jpg\",imgCrop)"
   ]
  },
  {
   "cell_type": "code",
   "execution_count": null,
   "metadata": {},
   "outputs": [],
   "source": [
    "cv2.imshow('cropped',imgCrop)"
   ]
  },
  {
   "cell_type": "code",
   "execution_count": null,
   "metadata": {},
   "outputs": [],
   "source": []
  },
  {
   "cell_type": "code",
   "execution_count": null,
   "metadata": {},
   "outputs": [],
   "source": []
  },
  {
   "cell_type": "code",
   "execution_count": null,
   "metadata": {},
   "outputs": [],
   "source": []
  },
  {
   "cell_type": "code",
   "execution_count": null,
   "metadata": {},
   "outputs": [],
   "source": []
  },
  {
   "cell_type": "code",
   "execution_count": null,
   "metadata": {},
   "outputs": [],
   "source": []
  },
  {
   "cell_type": "code",
   "execution_count": null,
   "metadata": {},
   "outputs": [],
   "source": []
  }
 ],
 "metadata": {
  "kernelspec": {
   "display_name": "Python 3",
   "language": "python",
   "name": "python3"
  },
  "language_info": {
   "codemirror_mode": {
    "name": "ipython",
    "version": 3
   },
   "file_extension": ".py",
   "mimetype": "text/x-python",
   "name": "python",
   "nbconvert_exporter": "python",
   "pygments_lexer": "ipython3",
   "version": "3.7.4"
  }
 },
 "nbformat": 4,
 "nbformat_minor": 2
}
